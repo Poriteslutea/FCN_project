{
 "cells": [
  {
   "attachments": {},
   "cell_type": "markdown",
   "metadata": {},
   "source": [
    "# 爬蟲"
   ]
  },
  {
   "cell_type": "code",
   "execution_count": 50,
   "metadata": {},
   "outputs": [
    {
     "name": "stdout",
     "output_type": "stream",
     "text": [
      "2024-01-05\n",
      "美元匯率為：{'即期買入': 30.954, '即期賣出': 31.054, '現金買入': 30.752, '現金賣出': 31.229}\n"
     ]
    }
   ],
   "source": [
    "from selenium import webdriver\n",
    "from selenium.webdriver.common.by import By\n",
    "from selenium.webdriver.support.ui import WebDriverWait\n",
    "from selenium.webdriver.support import expected_conditions as EC\n",
    "from datetime import datetime\n",
    "\n",
    "# 設置瀏覽器驅動程式的路徑，請替換成你系統上的驅動程式路徑\n",
    "chrome_driver_path = '/home/megoo/chromedriver'\n",
    "options = webdriver.ChromeOptions()\n",
    "options.add_argument(\"headless\")\n",
    "\n",
    "# 啟動 Chrome 瀏覽器\n",
    "browser = webdriver.Chrome(executable_path=chrome_driver_path, options=options)\n",
    "\n",
    "# 前往該網站\n",
    "url = 'https://www.taishinbank.com.tw/TSB/personal/deposit/lookup/realtime/'\n",
    "browser.get(url)\n",
    "\n",
    "# 美金匯率\n",
    "x_path = '//*[@id=\"ts-transac-comp-1-tab6\"]/div/div/div/div/div[4]/div/table/tbody/tr/td[2]/div/table/tbody/tr[2]'\n",
    "# 美金即買\n",
    "el_x_path = '//*[@id=\"ts-transac-comp-1-tab6\"]/div/div/div/div/div[4]/div/table/tbody/tr/td[2]/div/table/tbody/tr[2]/td[1]'\n",
    "\n",
    "try:\n",
    "    # 等待匯率元素加載完成（這邊使用XPath定位元素，可以依照網站實際情況調整）\n",
    "    element = WebDriverWait(browser, 10).until(\n",
    "        EC.presence_of_element_located((By.XPATH, x_path))\n",
    "    )\n",
    "    \n",
    "    # 抓取匯率資料\n",
    "    exchange_rate = browser.find_elements(By.XPATH, x_path)\n",
    "    keys = ['即期買入','即期賣出','現金買入','現金賣出']\n",
    "    for ec in exchange_rate:\n",
    "        text = ec.get_attribute('innerText')\n",
    "        text = text.replace(' ','').split('\\n')[1:5]\n",
    "    \n",
    "    ret = {k: float(v) for k, v in zip(keys, text)}\n",
    "\n",
    "    print(datetime.today().date())\n",
    "    print(f\"美元匯率為：{ret}\")\n",
    "\n",
    "finally:\n",
    "    # 瀏覽器關閉\n",
    "    browser.quit()\n"
   ]
  }
 ],
 "metadata": {
  "kernelspec": {
   "display_name": "dev",
   "language": "python",
   "name": "python3"
  },
  "language_info": {
   "codemirror_mode": {
    "name": "ipython",
    "version": 3
   },
   "file_extension": ".py",
   "mimetype": "text/x-python",
   "name": "python",
   "nbconvert_exporter": "python",
   "pygments_lexer": "ipython3",
   "version": "3.10.10"
  },
  "orig_nbformat": 4
 },
 "nbformat": 4,
 "nbformat_minor": 2
}
